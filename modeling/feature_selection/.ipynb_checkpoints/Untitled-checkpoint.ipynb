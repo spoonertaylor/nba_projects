{
 "cells": [
  {
   "cell_type": "code",
   "execution_count": 3,
   "metadata": {},
   "outputs": [],
   "source": [
    "import numpy as np\n",
    "import pandas as pd\n",
    "import eli5\n",
    "from eli5.sklearn import PermutationImportance\n",
    "from sklearn.ensemble import RandomForestRegressor\n",
    "from sklearn.model_selection import train_test_split\n",
    "from sklearn.metrics import mean_squared_error"
   ]
  },
  {
   "cell_type": "code",
   "execution_count": 4,
   "metadata": {},
   "outputs": [],
   "source": [
    "# Read in featurized Basketball-Reference Box Score Data\n",
    "bbref_box_score = pd.read_csv('featurized_inputs/bbref_box_scores.csv')\n",
    "# Filter to SEASON_PLUS_1 target variable and drop other targets\n",
    "bbref_box_score = (bbref_box_score[bbref_box_score['SEASON_PLUS_1'].notnull()]\n",
    "                    .drop(['BLEND', 'SEASON_PLUS_2', 'SEASON_PLUS_3',\n",
    "                           'SEASON_PLUS_4', 'SEASON_PLUS_5'], axis=1))\n",
    "\n",
    "bbref_box_score = bbref_box_score[['SEASON_PLUS_1', 'G', 'GS', 'MP', 'FG', 'FGA', 'FG%', '3P', '3PA', '3P%', '2P',\n",
    "       '2PA', '2P%', 'EFG%', 'FT', 'FTA', 'FT%', 'ORB', 'DRB', 'TRB', 'AST',\n",
    "       'STL', 'BLK', 'TOV', 'PF', 'PTS', 'PER100_FG', 'PER100_FGA',\n",
    "       'PER100_FG%', 'PER100_3P', 'PER100_3PA', 'PER100_3P%', 'PER100_2P',\n",
    "       'PER100_2PA', 'PER100_2P%', 'PER100_FT', 'PER100_FTA', 'PER100_FT%',\n",
    "       'PER100_ORB', 'PER100_DRB', 'PER100_TRB', 'PER100_AST', 'PER100_STL',\n",
    "       'PER100_BLK', 'PER100_TOV', 'PER100_PF', 'PER100_PTS', 'PER100_ORTG',\n",
    "       'PER100_DRTG', 'PER', 'TS%', '3PA_RATE', 'FT_RATE', 'ORB%', 'DRB%',\n",
    "       'TRB%', 'AST%', 'STL%', 'BLK%', 'TOV%', 'USG%', 'OWS', 'DWS', 'WS',\n",
    "       'WS/48', 'OBPM', 'DBPM', 'BPM', 'VORP']]\n",
    "\n",
    "df_train, df_test = train_test_split(bbref_box_score, test_size=0.2)"
   ]
  },
  {
   "cell_type": "code",
   "execution_count": null,
   "metadata": {},
   "outputs": [],
   "source": []
  }
 ],
 "metadata": {
  "kernelspec": {
   "display_name": "Python 3",
   "language": "python",
   "name": "python3"
  },
  "language_info": {
   "codemirror_mode": {
    "name": "ipython",
    "version": 3
   },
   "file_extension": ".py",
   "mimetype": "text/x-python",
   "name": "python",
   "nbconvert_exporter": "python",
   "pygments_lexer": "ipython3",
   "version": "3.7.3"
  }
 },
 "nbformat": 4,
 "nbformat_minor": 2
}
